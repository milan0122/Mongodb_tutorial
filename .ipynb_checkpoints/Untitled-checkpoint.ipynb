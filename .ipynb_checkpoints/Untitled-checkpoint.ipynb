{
 "cells": [
  {
   "cell_type": "code",
   "execution_count": 5,
   "id": "6dcc9467",
   "metadata": {},
   "outputs": [],
   "source": [
    "import pymongo"
   ]
  },
  {
   "cell_type": "code",
   "execution_count": 7,
   "id": "3610772f",
   "metadata": {},
   "outputs": [],
   "source": [
    "client = pymongo.MongoClient(\"mongodb://127.0.0.1:27017/\")"
   ]
  },
  {
   "cell_type": "code",
   "execution_count": 8,
   "id": "bc84f936",
   "metadata": {},
   "outputs": [],
   "source": [
    "#creating database named teacher\n",
    "mydb = client[\"teacher\"]"
   ]
  },
  {
   "cell_type": "code",
   "execution_count": 9,
   "id": "784e5dd8",
   "metadata": {},
   "outputs": [],
   "source": [
    "#creating collection name teacherinformation\n",
    "information =mydb.teacherinformation"
   ]
  },
  {
   "cell_type": "code",
   "execution_count": 10,
   "id": "c5434ca1",
   "metadata": {},
   "outputs": [],
   "source": [
    "#information going to insert into collection\n",
    "record = {\n",
    "    \"firstname\":\"Ram\",\n",
    "    \"lastname\":\"Oli\",\n",
    "    \"faculty\":\"CSIT\"\n",
    "    \n",
    "}"
   ]
  },
  {
   "cell_type": "code",
   "execution_count": 12,
   "id": "511c2204",
   "metadata": {},
   "outputs": [
    {
     "data": {
      "text/plain": [
       "InsertOneResult(ObjectId('65c3b91fe824398fc305af2f'), acknowledged=True)"
      ]
     },
     "execution_count": 12,
     "metadata": {},
     "output_type": "execute_result"
    }
   ],
   "source": [
    "#inserting only one record \n",
    "information.insert_one(record)"
   ]
  },
  {
   "cell_type": "code",
   "execution_count": 13,
   "id": "26993b9c",
   "metadata": {},
   "outputs": [],
   "source": [
    "#let's insert multiple record for that we have to make list of dict\n",
    "record =[ {\n",
    "    \"firstname\":\"Shyam\",\n",
    "    \"lastname\":\"Khatri\",\n",
    "    \"faculty\":\"CSIT\",\n",
    "    \"address\":\"Dang\"  \n",
    "},\n",
    "    {\n",
    "    \"firstname\":\"Kiran\",\n",
    "    \"lastname\":\"Sharma\",\n",
    "    \"faculty\":\"BIM\",\n",
    "    \"address\":\"KTM\",\n",
    "    \"age\":22\n",
    "}]"
   ]
  },
  {
   "cell_type": "code",
   "execution_count": 14,
   "id": "f0c8aeab",
   "metadata": {},
   "outputs": [
    {
     "data": {
      "text/plain": [
       "InsertManyResult([ObjectId('65c3ba4ae824398fc305af30'), ObjectId('65c3ba4ae824398fc305af31')], acknowledged=True)"
      ]
     },
     "execution_count": 14,
     "metadata": {},
     "output_type": "execute_result"
    }
   ],
   "source": [
    "information.insert_many(record)"
   ]
  },
  {
   "cell_type": "code",
   "execution_count": null,
   "id": "94aceb4f",
   "metadata": {},
   "outputs": [],
   "source": []
  }
 ],
 "metadata": {
  "kernelspec": {
   "display_name": "Python 3 (ipykernel)",
   "language": "python",
   "name": "python3"
  },
  "language_info": {
   "codemirror_mode": {
    "name": "ipython",
    "version": 3
   },
   "file_extension": ".py",
   "mimetype": "text/x-python",
   "name": "python",
   "nbconvert_exporter": "python",
   "pygments_lexer": "ipython3",
   "version": "3.9.13"
  }
 },
 "nbformat": 4,
 "nbformat_minor": 5
}
